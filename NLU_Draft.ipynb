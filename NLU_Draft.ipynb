{
 "cells": [
  {
   "cell_type": "code",
   "execution_count": 1,
   "metadata": {},
   "outputs": [],
   "source": [
    "import json"
   ]
  },
  {
   "cell_type": "code",
   "execution_count": 2,
   "metadata": {},
   "outputs": [
    {
     "name": "stdout",
     "output_type": "stream",
     "text": [
      "Requirement already up-to-date: watson-developer-cloud>=2.5.1 in ./venv/lib/python3.6/site-packages (2.8.1)\r\n",
      "Requirement already satisfied, skipping upgrade: websocket-client==0.48.0 in ./venv/lib/python3.6/site-packages (from watson-developer-cloud>=2.5.1) (0.48.0)\r\n",
      "Requirement already satisfied, skipping upgrade: python-dateutil>=2.5.3 in ./venv/lib/python3.6/site-packages (from watson-developer-cloud>=2.5.1) (2.8.0)\r\n",
      "Requirement already satisfied, skipping upgrade: requests<3.0,>=2.0 in ./venv/lib/python3.6/site-packages (from watson-developer-cloud>=2.5.1) (2.21.0)\r\n",
      "Requirement already satisfied, skipping upgrade: six in ./venv/lib/python3.6/site-packages (from websocket-client==0.48.0->watson-developer-cloud>=2.5.1) (1.10.0)\r\n",
      "Requirement already satisfied, skipping upgrade: certifi>=2017.4.17 in ./venv/lib/python3.6/site-packages (from requests<3.0,>=2.0->watson-developer-cloud>=2.5.1) (2019.3.9)\r\n",
      "Requirement already satisfied, skipping upgrade: urllib3<1.25,>=1.21.1 in ./venv/lib/python3.6/site-packages (from requests<3.0,>=2.0->watson-developer-cloud>=2.5.1) (1.24.1)\r\n",
      "Requirement already satisfied, skipping upgrade: idna<2.9,>=2.5 in ./venv/lib/python3.6/site-packages (from requests<3.0,>=2.0->watson-developer-cloud>=2.5.1) (2.8)\r\n",
      "Requirement already satisfied, skipping upgrade: chardet<3.1.0,>=3.0.2 in ./venv/lib/python3.6/site-packages (from requests<3.0,>=2.0->watson-developer-cloud>=2.5.1) (3.0.4)\r\n"
     ]
    }
   ],
   "source": [
    "!pip install --upgrade \"watson-developer-cloud>=2.5.1\""
   ]
  },
  {
   "cell_type": "code",
   "execution_count": 2,
   "metadata": {},
   "outputs": [],
   "source": [
    "from watson_developer_cloud import NaturalLanguageUnderstandingV1\n",
    "from watson_developer_cloud.natural_language_understanding_v1 import Features, EntitiesOptions, KeywordsOptions, ConceptsOptions,CategoriesOptions"
   ]
  },
  {
   "cell_type": "code",
   "execution_count": 3,
   "metadata": {},
   "outputs": [],
   "source": [
    "import PyPDF2 \n",
    "import textract"
   ]
  },
  {
   "cell_type": "code",
   "execution_count": 4,
   "metadata": {},
   "outputs": [],
   "source": [
    "naturalLanguageUnderstanding = NaturalLanguageUnderstandingV1(\n",
    "    version='2018-11-16',\n",
    "    iam_apikey='PiMaIaLt9pDN4q670Fo0nqGAdqMY_Vx50thjccVVmRTN',\n",
    "    url='https://gateway.watsonplatform.net/natural-language-understanding/api',\n",
    ")"
   ]
  },
  {
   "cell_type": "code",
   "execution_count": 5,
   "metadata": {},
   "outputs": [
    {
     "name": "stdout",
     "output_type": "stream",
     "text": [
      "NLU_Draft.ipynb Resume.pdf      \u001b[34mSmartHire\u001b[m\u001b[m       SmartHire.zip   \u001b[34mvenv\u001b[m\u001b[m\r\n"
     ]
    }
   ],
   "source": [
    "!ls"
   ]
  },
  {
   "cell_type": "code",
   "execution_count": 6,
   "metadata": {},
   "outputs": [],
   "source": [
    "filename = \"resume.pdf\"\n",
    "pdfFileObj = open(filename, 'rb')\n",
    "pdfReader = PyPDF2.PdfFileReader(pdfFileObj)\n",
    "num_pages = pdfReader.numPages\n",
    "count = 0\n",
    "text = \"\"\n",
    "#The while loop will read each page\n",
    "while count < num_pages:\n",
    "    pageObj = pdfReader.getPage(count)\n",
    "    count +=1\n",
    "    text += pageObj.extractText()\n",
    "\n",
    "if text != \"\":\n",
    "    text = text\n",
    "else:\n",
    "    text = textract.process(fileurl, method='tesseract', language='eng')"
   ]
  },
  {
   "cell_type": "code",
   "execution_count": 7,
   "metadata": {},
   "outputs": [
    {
     "data": {
      "text/plain": [
       "PyPDF2.pdf.PdfFileReader"
      ]
     },
     "execution_count": 7,
     "metadata": {},
     "output_type": "execute_result"
    }
   ],
   "source": [
    "type(pdfReader)"
   ]
  },
  {
   "cell_type": "code",
   "execution_count": 8,
   "metadata": {},
   "outputs": [
    {
     "data": {
      "text/plain": [
       "'John Doe\\n \\nFull \\nAdd\\nress\\n \\n\\n \\nCity, State, ZIP\\n \\n\\n \\nPhone Number\\n \\n\\n \\nE\\n-\\nmail\\n \\n \\n \\nOBJECTIVE: \\nDesign \\napparel \\nprint for an innovative retail company\\n \\n \\nEDUCATION\\n:\\n \\n \\nUNIVERSITY OF MINNESOTA         \\n                                              \\n   \\n \\n  \\n    \\n            \\n \\n \\n \\n \\n \\n \\n \\n \\n            \\n  \\nCity, State\\n \\nCollege of Design\\n \\n \\n \\n \\n \\n \\n \\n     \\n  \\n \\n   \\n \\n   \\n \\n \\n \\n \\n \\n \\n      \\n  \\n   \\n \\n \\n  \\nMay 2011\\n \\n\\n \\nBachelor of Science\\n \\nin \\nGraphic Design\\n \\n \\n\\n \\nCumulative GPA 3.93\\n\\n \\n\\n \\nTwin cities Iron Range Scholarship\\n \\n \\nWORK \\nEXPERIENCE:\\n \\n \\n \\nAMERICAN EAGLE    \\n                                                            \\n                                         \\n            \\n  \\nCity, State\\n \\n \\nSales Associate           \\n                       \\n                                                                                  \\nJuly 2009 \\n-\\n \\npresent\\n \\n\\n \\nCollaborated\\n \\nwith the store merchandiser \\ncreating\\n \\ndisplays to attract clientele\\n \\n\\n \\nUse \\nmy \\ntrend awareness to assist customers in their shopping experience\\n \\n\\n \\nThoroughly scan\\n \\nevery piece of merchandise for inventory control\\n \\n\\n \\nProcess shipment to increase my product knowledge\\n \\n \\n \\nPLANET BEACH \\n                                                                                                                            \\nCity, State\\n \\n \\nSpa Consultant                                                                                                               \\n    \\nAug. 2008 \\n-\\n \\npresent\\n \\n\\n \\nSell retail\\n \\nand memb\\nerships to meet company sales goals\\n \\n\\n \\nBuild organizational skills by single handedly running all operating procedures\\n \\n\\n \\nCommunicate with clients to fulfill their wants and needs\\n \\n\\n \\nAttend promotional events to market our services\\n \\n\\n \\nHandle cash and deposits\\n \\nduring opening and closing \\n \\n\\n \\nReceived employee of the month award twice\\n \\n \\nHEARTBREAKER                                   \\n \\n \\n \\n          \\n \\n \\n         \\n \\n           \\n   \\nCity, State\\n \\n \\nSales Associate\\n \\n \\n \\n \\n \\n \\n \\n \\n \\n   \\nMay 2008 \\n\\n \\nAug. 2008\\n \\n\\n \\nStocked sales floor with fast fashion invent\\nory\\n \\n\\n \\nMarked down items allowing me to see unsuccessful merchandise in a retail market\\n \\n\\n \\nOffered advice and assistance to each guest\\n \\n \\nVICTORIA\\n\\nS SECRET  \\n                                                                                              \\n    \\n           \\n     \\nCity, State\\n \\nFashion Representative                                                                                                  \\nJan. 2006 \\n\\n \\nFeb. 2009\\n \\n\\n \\nApplied\\n \\nmy leadership skills by assisting in the training of coworkers\\n \\n\\n \\nSet up mannequins a\\nnd displays in order to entice future customers\\n \\n\\n \\nProvided\\n \\nsuperior customer \\nservice\\n \\nby\\n \\nhelping with \\nconsumer\\n \\ndecisions\\n \\n\\n \\nTook seasonal inventory\\n \\n \\nVOLUNTEER \\nEXPERIENCE\\n:\\n \\n \\n \\nTARGET CORPORATION\\n                                                                                                \\n           \\n  \\nCity, State\\n \\n \\nBrand Ambassador\\n                                                                                                        \\n                \\nAugust 2009\\n \\n\\n \\nRepresented \\nPeriscope Marketing\\n \\nand Target Inc. at a college event\\n \\n\\n \\nEngaged University of Minnesota freshman in the Target \\nbrand experience\\n \\n'"
      ]
     },
     "execution_count": 8,
     "metadata": {},
     "output_type": "execute_result"
    }
   ],
   "source": [
    "text"
   ]
  },
  {
   "cell_type": "code",
   "execution_count": 9,
   "metadata": {},
   "outputs": [],
   "source": [
    "response = naturalLanguageUnderstanding.analyze(\n",
    "    text=text,\n",
    "    features=Features(keywords=KeywordsOptions(limit=10), concepts=ConceptsOptions(limit=10))).get_result()\n",
    "\n"
   ]
  },
  {
   "cell_type": "code",
   "execution_count": 10,
   "metadata": {
    "scrolled": false
   },
   "outputs": [
    {
     "name": "stdout",
     "output_type": "stream",
     "text": [
      "{\n",
      "  \"usage\": {\n",
      "    \"text_units\": 1,\n",
      "    \"text_characters\": 3281,\n",
      "    \"features\": 2\n",
      "  },\n",
      "  \"language\": \"en\",\n",
      "  \"keywords\": [\n",
      "    {\n",
      "      \"text\": \"nd displays\",\n",
      "      \"relevance\": 0.649396,\n",
      "      \"count\": 1\n",
      "    },\n",
      "    {\n",
      "      \"text\": \"organizational skills\",\n",
      "      \"relevance\": 0.623502,\n",
      "      \"count\": 1\n",
      "    },\n",
      "    {\n",
      "      \"text\": \"leadership skills\",\n",
      "      \"relevance\": 0.594143,\n",
      "      \"count\": 1\n",
      "    },\n",
      "    {\n",
      "      \"text\": \"Target Inc.\",\n",
      "      \"relevance\": 0.584035,\n",
      "      \"count\": 1\n",
      "    },\n",
      "    {\n",
      "      \"text\": \"company sales goals\",\n",
      "      \"relevance\": 0.580038,\n",
      "      \"count\": 1\n",
      "    },\n",
      "    {\n",
      "      \"text\": \"trend awareness\",\n",
      "      \"relevance\": 0.563785,\n",
      "      \"count\": 1\n",
      "    },\n",
      "    {\n",
      "      \"text\": \"Cumulative GPA\",\n",
      "      \"relevance\": 0.559155,\n",
      "      \"count\": 1\n",
      "    },\n",
      "    {\n",
      "      \"text\": \"promotional events\",\n",
      "      \"relevance\": 0.558871,\n",
      "      \"count\": 1\n",
      "    },\n",
      "    {\n",
      "      \"text\": \"University of Minnesota freshman\",\n",
      "      \"relevance\": 0.552953,\n",
      "      \"count\": 1\n",
      "    },\n",
      "    {\n",
      "      \"text\": \"Graphic Design\",\n",
      "      \"relevance\": 0.549041,\n",
      "      \"count\": 1\n",
      "    }\n",
      "  ],\n",
      "  \"concepts\": [\n",
      "    {\n",
      "      \"text\": \"Minnesota\",\n",
      "      \"relevance\": 0.9784,\n",
      "      \"dbpedia_resource\": \"http://dbpedia.org/resource/Minnesota\"\n",
      "    },\n",
      "    {\n",
      "      \"text\": \"Sales\",\n",
      "      \"relevance\": 0.915889,\n",
      "      \"dbpedia_resource\": \"http://dbpedia.org/resource/Sales\"\n",
      "    },\n",
      "    {\n",
      "      \"text\": \"Customer service\",\n",
      "      \"relevance\": 0.864118,\n",
      "      \"dbpedia_resource\": \"http://dbpedia.org/resource/Customer_service\"\n",
      "    },\n",
      "    {\n",
      "      \"text\": \"Consultative selling\",\n",
      "      \"relevance\": 0.753734,\n",
      "      \"dbpedia_resource\": \"http://dbpedia.org/resource/Consultative_selling\"\n",
      "    },\n",
      "    {\n",
      "      \"text\": \"Retailing\",\n",
      "      \"relevance\": 0.707784,\n",
      "      \"dbpedia_resource\": \"http://dbpedia.org/resource/Retailing\"\n",
      "    },\n",
      "    {\n",
      "      \"text\": \"Target Corporation\",\n",
      "      \"relevance\": 0.674408,\n",
      "      \"dbpedia_resource\": \"http://dbpedia.org/resource/Target_Corporation\"\n",
      "    },\n",
      "    {\n",
      "      \"text\": \"Marketing\",\n",
      "      \"relevance\": 0.645521,\n",
      "      \"dbpedia_resource\": \"http://dbpedia.org/resource/Marketing\"\n",
      "    },\n",
      "    {\n",
      "      \"text\": \"2009\",\n",
      "      \"relevance\": 0.606165,\n",
      "      \"dbpedia_resource\": \"http://dbpedia.org/resource/2009\"\n",
      "    },\n",
      "    {\n",
      "      \"text\": \"Customer\",\n",
      "      \"relevance\": 0.53976,\n",
      "      \"dbpedia_resource\": \"http://dbpedia.org/resource/Customer\"\n",
      "    },\n",
      "    {\n",
      "      \"text\": \"Department store\",\n",
      "      \"relevance\": 0.532334,\n",
      "      \"dbpedia_resource\": \"http://dbpedia.org/resource/Department_store\"\n",
      "    }\n",
      "  ]\n",
      "}\n"
     ]
    }
   ],
   "source": [
    "print(json.dumps(response, indent=2))"
   ]
  },
  {
   "cell_type": "code",
   "execution_count": 11,
   "metadata": {},
   "outputs": [],
   "source": [
    "json_str = json.dumps(response)"
   ]
  },
  {
   "cell_type": "code",
   "execution_count": 12,
   "metadata": {},
   "outputs": [
    {
     "data": {
      "text/plain": [
       "{'usage': {'text_units': 1, 'text_characters': 3281, 'features': 2},\n",
       " 'language': 'en',\n",
       " 'keywords': [{'text': 'nd displays', 'relevance': 0.649396, 'count': 1},\n",
       "  {'text': 'organizational skills', 'relevance': 0.623502, 'count': 1},\n",
       "  {'text': 'leadership skills', 'relevance': 0.594143, 'count': 1},\n",
       "  {'text': 'Target Inc.', 'relevance': 0.584035, 'count': 1},\n",
       "  {'text': 'company sales goals', 'relevance': 0.580038, 'count': 1},\n",
       "  {'text': 'trend awareness', 'relevance': 0.563785, 'count': 1},\n",
       "  {'text': 'Cumulative GPA', 'relevance': 0.559155, 'count': 1},\n",
       "  {'text': 'promotional events', 'relevance': 0.558871, 'count': 1},\n",
       "  {'text': 'University of Minnesota freshman',\n",
       "   'relevance': 0.552953,\n",
       "   'count': 1},\n",
       "  {'text': 'Graphic Design', 'relevance': 0.549041, 'count': 1}],\n",
       " 'concepts': [{'text': 'Minnesota',\n",
       "   'relevance': 0.9784,\n",
       "   'dbpedia_resource': 'http://dbpedia.org/resource/Minnesota'},\n",
       "  {'text': 'Sales',\n",
       "   'relevance': 0.915889,\n",
       "   'dbpedia_resource': 'http://dbpedia.org/resource/Sales'},\n",
       "  {'text': 'Customer service',\n",
       "   'relevance': 0.864118,\n",
       "   'dbpedia_resource': 'http://dbpedia.org/resource/Customer_service'},\n",
       "  {'text': 'Consultative selling',\n",
       "   'relevance': 0.753734,\n",
       "   'dbpedia_resource': 'http://dbpedia.org/resource/Consultative_selling'},\n",
       "  {'text': 'Retailing',\n",
       "   'relevance': 0.707784,\n",
       "   'dbpedia_resource': 'http://dbpedia.org/resource/Retailing'},\n",
       "  {'text': 'Target Corporation',\n",
       "   'relevance': 0.674408,\n",
       "   'dbpedia_resource': 'http://dbpedia.org/resource/Target_Corporation'},\n",
       "  {'text': 'Marketing',\n",
       "   'relevance': 0.645521,\n",
       "   'dbpedia_resource': 'http://dbpedia.org/resource/Marketing'},\n",
       "  {'text': '2009',\n",
       "   'relevance': 0.606165,\n",
       "   'dbpedia_resource': 'http://dbpedia.org/resource/2009'},\n",
       "  {'text': 'Customer',\n",
       "   'relevance': 0.53976,\n",
       "   'dbpedia_resource': 'http://dbpedia.org/resource/Customer'},\n",
       "  {'text': 'Department store',\n",
       "   'relevance': 0.532334,\n",
       "   'dbpedia_resource': 'http://dbpedia.org/resource/Department_store'}]}"
      ]
     },
     "execution_count": 12,
     "metadata": {},
     "output_type": "execute_result"
    }
   ],
   "source": [
    "data = json.loads(json_str)\n",
    "data"
   ]
  },
  {
   "cell_type": "code",
   "execution_count": 14,
   "metadata": {},
   "outputs": [
    {
     "data": {
      "text/plain": [
       "['nd displays',\n",
       " 'organizational skills',\n",
       " 'leadership skills',\n",
       " 'Target Inc.',\n",
       " 'company sales goals',\n",
       " 'trend awareness',\n",
       " 'Cumulative GPA',\n",
       " 'promotional events',\n",
       " 'University of Minnesota freshman',\n",
       " 'Graphic Design']"
      ]
     },
     "execution_count": 14,
     "metadata": {},
     "output_type": "execute_result"
    }
   ],
   "source": [
    "keywords = [obj['text'] for obj in data['keywords']]\n",
    "keywords"
   ]
  },
  {
   "cell_type": "code",
   "execution_count": 15,
   "metadata": {},
   "outputs": [
    {
     "data": {
      "text/plain": [
       "['Minnesota',\n",
       " 'Sales',\n",
       " 'Customer service',\n",
       " 'Consultative selling',\n",
       " 'Retailing',\n",
       " 'Target Corporation',\n",
       " 'Marketing',\n",
       " '2009',\n",
       " 'Customer',\n",
       " 'Department store']"
      ]
     },
     "execution_count": 15,
     "metadata": {},
     "output_type": "execute_result"
    }
   ],
   "source": [
    "concepts = [obj['text'] for obj in data['concepts']]\n",
    "concepts"
   ]
  },
  {
   "cell_type": "code",
   "execution_count": 18,
   "metadata": {},
   "outputs": [],
   "source": [
    "description = \"Job Description The GTS Sales Manager will lead a team of 5-7 services sellers, both the relationship seller and the service line specialist (technical seller). The industries covered range from Energy & Utilities, Telecommunications, and Media & Entertainment. The manager will be responsible for the development of sellers, including coaching and assisting in the development of the pipeline, and closing of highly complex information technology solutions while interacting with senior client executives, which can include the CEO, CFO, CIO, Board of Directors and evaluation committees. They are required to have an in-depth understanding of the client's business, goals, strategies and industry trends and directions. The managers team is responsible for developing and leading deals between $500k and $10M in value, while providing accurate weekly forecasts. These deals are intended to increase IBM's services revenue within the account and may include some or all of the following sample of solutions: Cloud IBM Cloud, Multi-Cloud Management, Cloud Optimization, IBM Cloud Object Storage, zOS Cloud, PaaS solutions including SAP as a Service, and Hybrid IT  Systems IT as a Service, managed services for servers, mainframe, storage, leveraging cognitive IT, analytics and robotic process automation. Security Security as a Service, threat management, ID management, malware defense management Network Network as a Service (IBMs own network solution), telecom expense management, optimization studies, Software Defined Networking, OEM hardware and software procurement, Voice and Data. Resiliency Disaster Recovery as a Service, DR strategy and consulting, high availability environments, cloud managed backup and Cyber Resiliency Data Center Strategy, design, implementation, optimization, services to support data centers Mobility Workstation as a Service, Mobile Expense Management, Mac@Work, IT Service Desk with Watson/AI, End User Services GTSISS Required Technical and Professional Expertise • Experienced people manager, sales, services, • Strong communication/collaboration skills\""
   ]
  },
  {
   "cell_type": "code",
   "execution_count": 21,
   "metadata": {},
   "outputs": [],
   "source": [
    "qualifications = naturalLanguageUnderstanding.analyze(\n",
    "    text=description,\n",
    "    features=Features(keywords=KeywordsOptions(limit=5),categories=CategoriesOptions(limit=5), concepts=ConceptsOptions(limit=5), entities=EntitiesOptions(limit=5))).get_result()"
   ]
  },
  {
   "cell_type": "code",
   "execution_count": 22,
   "metadata": {},
   "outputs": [
    {
     "name": "stdout",
     "output_type": "stream",
     "text": [
      "{\n",
      "  \"usage\": {\n",
      "    \"text_units\": 1,\n",
      "    \"text_characters\": 2095,\n",
      "    \"features\": 4\n",
      "  },\n",
      "  \"language\": \"en\",\n",
      "  \"keywords\": [\n",
      "    {\n",
      "      \"text\": \"Security Security\",\n",
      "      \"relevance\": 0.855764,\n",
      "      \"count\": 1\n",
      "    },\n",
      "    {\n",
      "      \"text\": \"services sellers\",\n",
      "      \"relevance\": 0.840455,\n",
      "      \"count\": 1\n",
      "    },\n",
      "    {\n",
      "      \"text\": \"Cloud IBM Cloud\",\n",
      "      \"relevance\": 0.704271,\n",
      "      \"count\": 1\n",
      "    },\n",
      "    {\n",
      "      \"text\": \"service line specialist\",\n",
      "      \"relevance\": 0.667541,\n",
      "      \"count\": 1\n",
      "    },\n",
      "    {\n",
      "      \"text\": \"Multi-Cloud Management\",\n",
      "      \"relevance\": 0.650131,\n",
      "      \"count\": 1\n",
      "    }\n",
      "  ],\n",
      "  \"entities\": [\n",
      "    {\n",
      "      \"type\": \"JobTitle\",\n",
      "      \"text\": \"GTS Sales Manager\",\n",
      "      \"relevance\": 0.928109,\n",
      "      \"count\": 2\n",
      "    },\n",
      "    {\n",
      "      \"type\": \"Company\",\n",
      "      \"text\": \"IBM\",\n",
      "      \"relevance\": 0.637517,\n",
      "      \"disambiguation\": {\n",
      "        \"subtype\": [\n",
      "          \"SoftwareLicense\",\n",
      "          \"OperatingSystemDeveloper\",\n",
      "          \"ProcessorManufacturer\",\n",
      "          \"SoftwareDeveloper\",\n",
      "          \"CompanyFounder\",\n",
      "          \"ProgrammingLanguageDesigner\",\n",
      "          \"ProgrammingLanguageDeveloper\"\n",
      "        ],\n",
      "        \"name\": \"IBM\",\n",
      "        \"dbpedia_resource\": \"http://dbpedia.org/resource/IBM\"\n",
      "      },\n",
      "      \"count\": 2\n",
      "    },\n",
      "    {\n",
      "      \"type\": \"Company\",\n",
      "      \"text\": \"Network Network\",\n",
      "      \"relevance\": 0.544284,\n",
      "      \"count\": 1\n",
      "    }\n",
      "  ],\n",
      "  \"concepts\": [\n",
      "    {\n",
      "      \"text\": \"Sales\",\n",
      "      \"relevance\": 0.960459,\n",
      "      \"dbpedia_resource\": \"http://dbpedia.org/resource/Sales\"\n",
      "    },\n",
      "    {\n",
      "      \"text\": \"Management\",\n",
      "      \"relevance\": 0.873248,\n",
      "      \"dbpedia_resource\": \"http://dbpedia.org/resource/Management\"\n",
      "    },\n",
      "    {\n",
      "      \"text\": \"Corporate governance\",\n",
      "      \"relevance\": 0.591525,\n",
      "      \"dbpedia_resource\": \"http://dbpedia.org/resource/Corporate_governance\"\n",
      "    },\n",
      "    {\n",
      "      \"text\": \"Server room\",\n",
      "      \"relevance\": 0.576,\n",
      "      \"dbpedia_resource\": \"http://dbpedia.org/resource/Server_room\"\n",
      "    },\n",
      "    {\n",
      "      \"text\": \"Sun Microsystems\",\n",
      "      \"relevance\": 0.572086,\n",
      "      \"dbpedia_resource\": \"http://dbpedia.org/resource/Sun_Microsystems\"\n",
      "    }\n",
      "  ],\n",
      "  \"categories\": [\n",
      "    {\n",
      "      \"score\": 0.975025,\n",
      "      \"label\": \"/business and industrial/business software\"\n",
      "    },\n",
      "    {\n",
      "      \"score\": 0.97405,\n",
      "      \"label\": \"/technology and computing/data centers\"\n",
      "    },\n",
      "    {\n",
      "      \"score\": 0.958784,\n",
      "      \"label\": \"/technology and computing/networking/network monitoring and management\"\n",
      "    },\n",
      "    {\n",
      "      \"score\": 0.907831,\n",
      "      \"label\": \"/business and industrial/business operations/management\"\n",
      "    },\n",
      "    {\n",
      "      \"score\": 0.896804,\n",
      "      \"label\": \"/technology and computing/operating systems\"\n",
      "    }\n",
      "  ]\n",
      "}\n"
     ]
    }
   ],
   "source": [
    "print(json.dumps(qualifications, indent=2))"
   ]
  },
  {
   "cell_type": "code",
   "execution_count": null,
   "metadata": {},
   "outputs": [],
   "source": []
  }
 ],
 "metadata": {
  "kernelspec": {
   "display_name": "Python 3",
   "language": "python",
   "name": "python3"
  },
  "language_info": {
   "codemirror_mode": {
    "name": "ipython",
    "version": 3
   },
   "file_extension": ".py",
   "mimetype": "text/x-python",
   "name": "python",
   "nbconvert_exporter": "python",
   "pygments_lexer": "ipython3",
   "version": "3.6.4"
  }
 },
 "nbformat": 4,
 "nbformat_minor": 1
}
